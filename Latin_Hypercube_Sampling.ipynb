{
 "cells": [
  {
   "cell_type": "markdown",
   "metadata": {},
   "source": [
    "#### Latin Hypercube Sampling (LHS)\n",
    "\n",
    "A latin square is a square grid containing only one sample in each row and in each column. \n",
    "One-dimensional Latin hypercube sampling involves dividing the cumulative density function (cdf) into n equal partitions and then choosing a random data point in each interval.\n",
    "\n",
    "let’s say for example that we want a random sample of 100 data points from interval \n",
    "[xi, xf]. First, we divide the cdf into 100 equal intervals, then we select the first data from the interval [xi,xf/100]. The second data point would be from the interval [xf/100, 2xf/100], the third from [2xf/100, 3xf/100], and so on. In each interval we would randomly select one point, to obtain 100 different points."
   ]
  },
  {
   "cell_type": "code",
   "execution_count": 1,
   "metadata": {},
   "outputs": [],
   "source": [
    "import numpy as np\n",
    "import matplotlib.pyplot as plt"
   ]
  },
  {
   "cell_type": "code",
   "execution_count": 6,
   "metadata": {},
   "outputs": [],
   "source": [
    "def latin_hypercube(n):\n",
    "    low_bound = np.arange(0,n)/n\n",
    "    upper_bound = np.arange(1,n+1)/n\n",
    "    data = np.random.uniform(low=low_bound, high=upper_bound, size=[2,n]).T\n",
    "    \n",
    "    #Shuffle y coordinates\n",
    "    np.random.shuffle(data[:,1])\n",
    "    \n",
    "    return data\n",
    "    "
   ]
  },
  {
   "cell_type": "code",
   "execution_count": 21,
   "metadata": {},
   "outputs": [],
   "source": [
    "n=25\n",
    "d=latin_hypercube(n)\n"
   ]
  },
  {
   "cell_type": "code",
   "execution_count": 22,
   "metadata": {},
   "outputs": [
    {
     "data": {
      "image/png": "[encoded data removed]",
      "text/plain": [
       "<Figure size 360x360 with 1 Axes>"
      ]
     },
     "metadata": {
      "needs_background": "light"
     },
     "output_type": "display_data"
    }
   ],
   "source": [
    "plt.figure(figsize=[5, 5])\n",
    "plt.xlim([0, 1])\n",
    "plt.ylim([0, 1])\n",
    "plt.scatter(d[:, 0], d[:, 1], c='magenta')\n",
    "\n",
    "for i in np.arange(0, 1, 1/n):\n",
    "    plt.axvline(i)\n",
    "    plt.axhline(i)\n",
    "plt.show()"
   ]
  }
 ],
 "metadata": {
  "kernelspec": {
   "display_name": "Python 3",
   "language": "python",
   "name": "python3"
  },
  "language_info": {
   "codemirror_mode": {
    "name": "ipython",
    "version": 3
   },
   "file_extension": ".py",
   "mimetype": "text/x-python",
   "name": "python",
   "nbconvert_exporter": "python",
   "pygments_lexer": "ipython3",
   "version": "3.6.10"
  }
 },
 "nbformat": 4,
 "nbformat_minor": 4
}
